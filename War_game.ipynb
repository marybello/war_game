{
  "nbformat": 4,
  "nbformat_minor": 0,
  "metadata": {
    "colab": {
      "provenance": [],
      "authorship_tag": "ABX9TyMO9f16sqd3B4wm87PfjLOR",
      "include_colab_link": true
    },
    "kernelspec": {
      "name": "python3",
      "display_name": "Python 3"
    },
    "language_info": {
      "name": "python"
    }
  },
  "cells": [
    {
      "cell_type": "markdown",
      "metadata": {
        "id": "view-in-github",
        "colab_type": "text"
      },
      "source": [
        "<a href=\"https://colab.research.google.com/github/marybello/war_game/blob/main/War_game.ipynb\" target=\"_parent\"><img src=\"https://colab.research.google.com/assets/colab-badge.svg\" alt=\"Open In Colab\"/></a>"
      ]
    },
    {
      "cell_type": "code",
      "source": [
        "import random\n",
        "suits = ('Hearts', 'Diamonds', 'Spades','Clubs')\n",
        "ranks = ('Two', 'Three', 'Four','Five','Six','Seven','Eight','Nine','Ten','Jack','Queen','King','Ace')\n",
        "values = {'Two':2, 'Three':3, 'Four':4, 'Five':5,'Six':6,'Seven':7, 'Eight':8,'Nine':9, 'Ten':10, 'Jack':11, 'Queen':12,'King':13, 'Ace':14}"
      ],
      "metadata": {
        "id": "RYW-C_xhqkea"
      },
      "execution_count": 1,
      "outputs": []
    },
    {
      "cell_type": "code",
      "execution_count": 2,
      "metadata": {
        "id": "dNSz6K0rp5Zz"
      },
      "outputs": [],
      "source": [
        "#CARD class\n",
        "class Card:\n",
        "\n",
        "  def __init__(self,suit,rank):\n",
        "    self.suit = suit\n",
        "    self.rank = rank\n",
        "    self.value = values[rank]\n",
        "\n",
        "  def __str__(self):\n",
        "    return self.rank + \" of \" + self.suit"
      ]
    },
    {
      "cell_type": "code",
      "source": [
        "#Deck class\n",
        "class Deck:\n",
        "\n",
        "  def __init__(self):\n",
        "    self.allcards = []\n",
        "\n",
        "    for suit in suits:\n",
        "      for rank in ranks:\n",
        "        created_card = Card(suit,rank)\n",
        "        self.allcards.append(created_card)\n",
        "\n",
        "  def shuffle_deck(self):\n",
        "    random.shuffle(self.allcards)\n",
        "\n",
        "  def deal_one(self):\n",
        "    return self.allcards.pop()"
      ],
      "metadata": {
        "id": "Te6reZfequLY"
      },
      "execution_count": 3,
      "outputs": []
    },
    {
      "cell_type": "code",
      "source": [
        "#player class\n",
        "class Player:\n",
        "\n",
        "  def __init__(self,name):\n",
        "\n",
        "    self.name = name\n",
        "    self.all_cards = []\n",
        "\n",
        "  def remove_one(self):\n",
        "    return self.all_cards.pop(0)\n",
        "\n",
        "  def add_cards(self,new_cards):\n",
        "    if type(new_cards) == type([]):\n",
        "      self.all_cards.extend(new_cards)\n",
        "    else:\n",
        "      self.all_cards.append(new_cards)\n",
        "\n",
        "  def __str__(self):\n",
        "    return f'Player {self.name} has {len(self.all_cards)} cards.'"
      ],
      "metadata": {
        "id": "BiHhbIMTwPLf"
      },
      "execution_count": 4,
      "outputs": []
    },
    {
      "cell_type": "code",
      "source": [
        "# GAME SETUP\n",
        "player_one = Player('One')\n",
        "player_two = Player('Two')\n",
        "\n",
        "new_deck = Deck()\n",
        "new_deck.shuffle_deck()\n",
        "\n",
        "for x in range(26):\n",
        "  player_one.add_cards(new_deck.deal_one())\n",
        "  player_two.add_cards(new_deck.deal_one())"
      ],
      "metadata": {
        "id": "lzFYN0Psz4HA"
      },
      "execution_count": 5,
      "outputs": []
    },
    {
      "cell_type": "code",
      "source": [
        "game_on = True"
      ],
      "metadata": {
        "id": "k_iSX3AbKE9_"
      },
      "execution_count": 6,
      "outputs": []
    },
    {
      "cell_type": "code",
      "source": [
        "round_num = 0\n",
        "#while game on\n",
        "while game_on:\n",
        "  round_num +=1\n",
        "  print(f'Round {round_num}')\n",
        "\n",
        "  if len(player_one.all_cards) == 0:\n",
        "    print('Player One, out of cards! Player Two Wins')\n",
        "    game_on = False\n",
        "    break\n",
        "  if len(player_two.all_cards) == 0:\n",
        "    print('Player Two, out of cards! Player One Wins')\n",
        "    game_on = False\n",
        "    break\n",
        "\n",
        "  #Start a new round\n",
        "  player_one_cards = []\n",
        "  player_one_cards.append(player_one.remove_one())\n",
        "  player_two_cards = []\n",
        "  player_two_cards.append(player_two.remove_one())\n",
        "\n",
        "  at_war = True\n",
        "  while at_war:\n",
        "    if player_one_cards[-1].value > player_two_cards[-1].value:\n",
        "      player_one.add_cards(player_one_cards)\n",
        "      player_one.add_cards(player_two_cards)\n",
        "\n",
        "      at_war = False\n",
        "    elif player_two_cards[-1].value > player_one_cards[-1].value:\n",
        "      player_two.add_cards(player_one_cards)\n",
        "      player_two.add_cards(player_two_cards)\n",
        "\n",
        "      at_war = False\n",
        "    else:\n",
        "      print('WAR!!')\n",
        "      if len(player_one.all_cards) < 5:\n",
        "        print(\"Player one is unable to declare war\")\n",
        "        print('Player Two Wins!!')\n",
        "        game_on = False\n",
        "        break\n",
        "      elif len(player_two.all_cards) < 5:\n",
        "        print(\"Player Two is unable to declare war\")\n",
        "        print('Player One Wins!!')\n",
        "        game_on = False\n",
        "        break\n",
        "      else:\n",
        "        for num in range(5):\n",
        "          player_one_cards.append(player_one.remove_one())\n",
        "          player_two_cards.append(player_two.remove_one())\n",
        "\n",
        "  #while at war"
      ],
      "metadata": {
        "colab": {
          "base_uri": "https://localhost:8080/"
        },
        "id": "5Q0Ux5dmJjdJ",
        "outputId": "c9beeff1-267e-4c98-9518-520f6c6addc6"
      },
      "execution_count": 7,
      "outputs": [
        {
          "output_type": "stream",
          "name": "stdout",
          "text": [
            "Round 1\n",
            "Round 2\n",
            "WAR!!\n",
            "Round 3\n",
            "Round 4\n",
            "Round 5\n",
            "Round 6\n",
            "Round 7\n",
            "Round 8\n",
            "Round 9\n",
            "Round 10\n",
            "WAR!!\n",
            "Round 11\n",
            "Round 12\n",
            "Round 13\n",
            "WAR!!\n",
            "Round 14\n",
            "Round 15\n",
            "Round 16\n",
            "Round 17\n",
            "Round 18\n",
            "Round 19\n",
            "Round 20\n",
            "Round 21\n",
            "Round 22\n",
            "Round 23\n",
            "Round 24\n",
            "Round 25\n",
            "Round 26\n",
            "Round 27\n",
            "Round 28\n",
            "Round 29\n",
            "Round 30\n",
            "Round 31\n",
            "Round 32\n",
            "Round 33\n",
            "Round 34\n",
            "Round 35\n",
            "Round 36\n",
            "Round 37\n",
            "Round 38\n",
            "Round 39\n",
            "Round 40\n",
            "Round 41\n",
            "Round 42\n",
            "Round 43\n",
            "Round 44\n",
            "Round 45\n",
            "Round 46\n",
            "Round 47\n",
            "Round 48\n",
            "Round 49\n",
            "Round 50\n",
            "Round 51\n",
            "WAR!!\n",
            "Round 52\n",
            "Round 53\n",
            "Round 54\n",
            "Round 55\n",
            "Round 56\n",
            "Round 57\n",
            "Round 58\n",
            "Round 59\n",
            "Round 60\n",
            "Round 61\n",
            "Round 62\n",
            "Round 63\n",
            "Round 64\n",
            "Round 65\n",
            "Round 66\n",
            "Round 67\n",
            "Round 68\n",
            "Round 69\n",
            "Round 70\n",
            "Round 71\n",
            "Round 72\n",
            "Round 73\n",
            "Round 74\n",
            "Round 75\n",
            "Round 76\n",
            "Round 77\n",
            "Round 78\n",
            "Round 79\n",
            "Round 80\n",
            "Round 81\n",
            "Round 82\n",
            "Round 83\n",
            "Round 84\n",
            "WAR!!\n",
            "Player Two is unable to declare war\n",
            "Player One Wins!!\n"
          ]
        }
      ]
    },
    {
      "cell_type": "code",
      "source": [],
      "metadata": {
        "id": "xojuEs-zQB1F"
      },
      "execution_count": null,
      "outputs": []
    }
  ]
}